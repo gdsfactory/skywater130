{
 "cells": [
  {
   "cell_type": "markdown",
   "id": "00f7c03e-4b7f-473c-9646-429b0fbb45a8",
   "metadata": {},
   "source": [
    "# Skywater 130 gdsfactory pdk\n",
    "\n",
    "## Layout driven flow\n",
    "\n",
    "You can import the PDK and layout any of the standard cells"
   ]
  },
  {
   "cell_type": "code",
   "execution_count": null,
   "id": "7f74141e-59ef-486b-8c9f-73320cda09b6",
   "metadata": {},
   "outputs": [],
   "source": [
    "import gdsfactory as gf\n",
    "import sky130.components as sc\n",
    "import sky130.tech as st"
   ]
  },
  {
   "cell_type": "code",
   "execution_count": null,
   "id": "6012d1ce-848d-46bc-b74a-e2e8009fca19",
   "metadata": {},
   "outputs": [],
   "source": [
    "c = sc.sky130_fd_sc_hd__a2111o_1()\n",
    "c"
   ]
  },
  {
   "cell_type": "code",
   "execution_count": null,
   "id": "bbf1be1f-5ebd-47a9-9f97-16dd67b7e33c",
   "metadata": {},
   "outputs": [],
   "source": [
    "scene = c.to_3d()\n",
    "scene.show()"
   ]
  },
  {
   "cell_type": "markdown",
   "id": "659e7ff0-bc30-4334-89e0-a4fec78c450d",
   "metadata": {},
   "source": [
    "TODO: add Parametric cells natively into gdsfactory `sky130` pdk."
   ]
  },
  {
   "cell_type": "code",
   "execution_count": null,
   "id": "6aea07c8-617d-4bb2-9cbc-313277865e2c",
   "metadata": {},
   "outputs": [],
   "source": [
    "c = gf.Component()\n",
    "g1 = c << sc.sky130_fd_sc_hd__a2111o_1()\n",
    "g2 = c << sc.sky130_fd_sc_hd__a311oi_4()\n",
    "g2.move((15, 10))\n",
    "c"
   ]
  },
  {
   "cell_type": "code",
   "execution_count": null,
   "id": "413e5206-f454-4932-ba9e-03d3c9484abf",
   "metadata": {},
   "outputs": [],
   "source": [
    "c = gf.Component()\n",
    "g1 = c << sc.sky130_fd_sc_hd__a2111o_1()\n",
    "g2 = c << sc.sky130_fd_sc_hd__a311oi_4()\n",
    "g2.move((15, 10))\n",
    "route = gf.routing.get_route_electrical(g1.ports['VPWR'], g2.ports['VPWR'], cross_section=st.xs_metal1)\n",
    "c.add(route.references)\n",
    "c"
   ]
  },
  {
   "cell_type": "code",
   "execution_count": null,
   "id": "1a041f26-d444-4db7-916c-53cd0258daf2",
   "metadata": {},
   "outputs": [],
   "source": [
    "scene = c.to_3d()\n",
    "scene.show()"
   ]
  },
  {
   "cell_type": "markdown",
   "id": "75ab4021-1c91-4e78-893d-54aeed6cb533",
   "metadata": {},
   "source": [
    "## Netlist driven flow\n",
    "\n",
    "For netlist driven flow you can define circuits for place and route. You have two options:\n",
    "\n",
    "1. in python\n",
    "2. in YAML"
   ]
  },
  {
   "cell_type": "markdown",
   "id": "e50bbe48-87ed-4e77-9893-4973b03961cc",
   "metadata": {},
   "source": [
    "## Spice simulations\n",
    "\n",
    "You can use `PySpice` for running simulations.\n",
    "\n",
    "gdsfactory can extract the netlist and simulate the circuit.\n",
    "\n",
    "TODO: add some relevant examples."
   ]
  },
  {
   "cell_type": "code",
   "execution_count": null,
   "id": "c7d18c8a-d22a-4cec-90da-d8ac854f681b",
   "metadata": {},
   "outputs": [],
   "source": []
  }
 ],
 "metadata": {
  "kernelspec": {
   "display_name": "Python 3 (ipykernel)",
   "language": "python",
   "name": "python3"
  },
  "language_info": {
   "codemirror_mode": {
    "name": "ipython",
    "version": 3
   },
   "file_extension": ".py",
   "mimetype": "text/x-python",
   "name": "python",
   "nbconvert_exporter": "python",
   "pygments_lexer": "ipython3",
   "version": "3.10.5"
  }
 },
 "nbformat": 4,
 "nbformat_minor": 5
}
